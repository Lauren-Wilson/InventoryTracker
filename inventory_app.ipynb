{
 "cells": [
  {
   "cell_type": "code",
   "execution_count": null,
   "metadata": {},
   "outputs": [],
   "source": [
    "# cloud function to update excel file\n",
    "import openpyxl\n",
    "import json\n",
    "import requests\n",
    "\n",
    "# Cloud function handler\n",
    "def update_inventory(event, context):\n",
    "    data = json.loads(event['body'])  # Extract scanned data\n",
    "    product_id = data.get('product_id')\n",
    "    change_in_quantity = data.get('quantity_change')\n",
    "\n",
    "    # Load the Excel file\n",
    "    workbook = openpyxl.load_workbook('/path/to/inventory.xlsx')\n",
    "    sheet = workbook.active\n",
    "\n",
    "    # Find the product row by product_id and update inventory\n",
    "    for row in sheet.iter_rows(min_row=2, values_only=True):\n",
    "        if row[0] == product_id:\n",
    "            current_qty = row[2]\n",
    "            new_qty = current_qty + change_in_quantity\n",
    "            sheet[f'C{row[0]}'] = new_qty  # Assuming column C is the stock level\n",
    "            break\n",
    "\n",
    "    # Save updated Excel file\n",
    "    workbook.save('/path/to/inventory.xlsx')\n",
    "\n",
    "    return {'statusCode': 200, 'body': json.dumps('Inventory updated')}\n"
   ]
  },
  {
   "cell_type": "code",
   "execution_count": null,
   "metadata": {},
   "outputs": [],
   "source": [
    "# create function to create qrcode that holds url, product_id and quantity_change\n",
    "def create_qrcode(event, context):\n",
    "    data = json.loads(event['body'])  # Extract scanned data\n",
    "    product_id = data.get('product_id')\n",
    "    quantity_change = data.get('quantity_change')\n",
    "    url = f\"https://example.com/update_inventory?product_id={product_id}&quantity_change={quantity_change}\"\n",
    "    qr_code = requests.get(f\"https://api.qrserver.com/v1/create-qr-code/?data={url}&size=200x200\")\n",
    "    return {'statusCode': 200, 'body': json.dumps(qr_code.content)}\n",
    "\n",
    "# create qr code in python\n",
    "def create_qr_code(url):\n",
    "    qr_code = requests.get(f\"https://api.qrserver.com/v1/create-qr-code/?data={url}&size=200x200\")\n",
    "    return qr_code.content"
   ]
  }
 ],
 "metadata": {
  "language_info": {
   "name": "python"
  }
 },
 "nbformat": 4,
 "nbformat_minor": 2
}
